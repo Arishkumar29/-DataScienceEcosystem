{
 "cells": [
  {
   "cell_type": "markdown",
   "id": "fb4206d9",
   "metadata": {},
   "source": [
    "\n",
    "# Data Science Tools and Ecosystem #\n",
    "\n",
    "The Data Science Task Categories include:\n",
    " \n",
    "Data Management -  storage, management and retrieval of data\n",
    "\n",
    "Data Integration and Transformation - streamline data pipelines and automate data processing tasks\n",
    "\n",
    "Data Visualization - provide graphical representation of data and assist with communicating insights\n",
    "\n",
    "Modelling - enable Building, Deployment, Monitoring and Assessment of Data and Machine Learning models\n",
    "\n",
    "\n",
    "\n",
    " The Data Science Task Categories include:\n",
    " \n",
    "Data Management -   storage, management and retrieval of data\n",
    "\n",
    "Data Integration and Transformation - streamline data pipelines and automate data processing tasks\n",
    "\n",
    "Data Visualization -  provide graphical representation of data and assist with communicating insights\n",
    "\n",
    "Modelling -   enable Building, Deployment, Monitoring and Assessment of Data and Machine Learning models\n",
    "  \n",
    "  \n",
    "  The data science ecosystem consists of many open source and commercial options, and include both traditional desktop applications and server-based tools, as well as cloud-based services that can be accessed using web-browsers and mobile interfaces.\n",
    "  Data Management Tools: include Relational Databases, NoSQL Databases, and Big Data platforms:\n",
    "\n",
    "MySQL, and PostgreSQL are examples of Open Source Relational Database Management Systems (RDBMS), and IBM Db2 and SQL Server are examples of commercial RDBMSes and are also available as Cloud services.\n",
    "\n",
    "MongoDB and Apache Cassandra are examples of NoSQL databases.\n",
    "\n",
    "Apache Hadoop and Apache Spark are used for Big Data analytics. \n",
    "\n",
    "Data Integration and Transformation Tools: include Apache Airflow and Apache Kafka. \n",
    "\n",
    "Data Visualization Tools:  include commercial offerings  such as Cognos Analytics, Tableau and PowerBI  and can be used for building dynamic and interactive dashboards.  \n",
    "\n",
    "Code Asset Management Tools: Git is an essential code asset management tool. GitHub is a popular web-based platform for storing and managing source code. Its features make it an ideal tool for collaborative software development, including version control, issue tracking, and project management. \n",
    "\n",
    "Development Environments: Popular development environments for Data Science include Jupyter Notebooks and RStudio. "
   ]
  },
  {
   "cell_type": "markdown",
   "id": "0a9f2047",
   "metadata": {},
   "source": [
    " The popular languages are \n",
    " \n",
    "1. Python\n",
    " \n",
    "2. R\n",
    " \n",
    "3. SQL\n",
    " \n",
    "4. Scala\n",
    " \n",
    "5. Java\n",
    " \n",
    "6. C++\n",
    " \n",
    "7. Julia.\n",
    " "
   ]
  },
  {
   "cell_type": "markdown",
   "id": "14c20d7e",
   "metadata": {},
   "source": [
    "Data science computing libraries like\n",
    "\n",
    "1.Pandas\n",
    "\n",
    "2.NumPy\n",
    "\n",
    "3.SciPy\n",
    "\n",
    "4.Matplotlib."
   ]
  },
  {
   "cell_type": "markdown",
   "id": "8fb80083",
   "metadata": {},
   "source": [
    "| DATA SCIENCE TOOLS |\n",
    "|--------------------|\n",
    "|Weka|\n",
    "|Java-ML|\n",
    "|Apache MLlib|\n",
    "|Deeplearning4|\n"
   ]
  },
  {
   "cell_type": "markdown",
   "id": "d8f372da",
   "metadata": {},
   "source": [
    "### Arithmetic expressions : ###\n",
    "   ### An arithmetic expression is an expression built up using numbers, arithmetic operators (such as +, , -, / and ) and parentheses, \"(\" and \")\". Arithmetic expressions may also make use of exponents ###"
   ]
  },
  {
   "cell_type": "code",
   "execution_count": 14,
   "id": "59642da5",
   "metadata": {},
   "outputs": [
    {
     "data": {
      "text/plain": [
       "8"
      ]
     },
     "execution_count": 14,
     "metadata": {},
     "output_type": "execute_result"
    }
   ],
   "source": [
    "#example\n",
    "3+5"
   ]
  },
  {
   "cell_type": "code",
   "execution_count": 15,
   "id": "06f9f876",
   "metadata": {},
   "outputs": [
    {
     "data": {
      "text/plain": [
       "24"
      ]
     },
     "execution_count": 15,
     "metadata": {},
     "output_type": "execute_result"
    }
   ],
   "source": [
    "#example\n",
    "3*8"
   ]
  },
  {
   "cell_type": "code",
   "execution_count": 16,
   "id": "141a5cc4",
   "metadata": {},
   "outputs": [
    {
     "data": {
      "text/plain": [
       "17"
      ]
     },
     "execution_count": 16,
     "metadata": {},
     "output_type": "execute_result"
    }
   ],
   "source": [
    "\n",
    "#Create a code cell to multiply and add numbers\n",
    "\n",
    "(3*4)+5"
   ]
  },
  {
   "cell_type": "code",
   "execution_count": 17,
   "id": "46cdc9f9",
   "metadata": {},
   "outputs": [
    {
     "data": {
      "text/plain": [
       "3.3333333333333335"
      ]
     },
     "execution_count": 17,
     "metadata": {},
     "output_type": "execute_result"
    }
   ],
   "source": [
    "# Create a code cell to convert minutes to hours\n",
    "200/60"
   ]
  },
  {
   "cell_type": "markdown",
   "id": "b4b2b526",
   "metadata": {},
   "source": [
    "**Objectives:**\n",
    "\n",
    "* Describe the components of a Data Scientist's toolkit and list various tool categories.\n",
    "* List examples of open-source tools used in data science.\n",
    "* Describe the relevant features of open-source tools.\n",
    "* List examples of commercial and cloud-based data science tools.\n",
    "* Identify the criteria and roles for determining the language to learn.\n",
    "* Identify the users and benefits of Python.\n",
    "* Identify the users and benefits of R language.\n",
    "* Define SQL elements and list its benefits.\n",
    "* Review languages such as Java, Scala, C++, JavaScript, and Julia.\n",
    "* List the global communities for connecting with other users.\n",
    "* List the tasks that a data scientist needs to perform to build a model​.\n",
    "* List the various libraries: scientific, visualization, machine learning, and deep learning.\n",
    "* Define REST API in relation to request and response.\n",
    "* Describe data sets and sources of data.\n",
    "* Explore open data sets on the Data Asset eXchange.\n",
    "* Describe how to use a learning model to solve a problem.\n",
    "* Navigate the Model Asset eXchange from IBM Research.\n",
    "* Describe how to use the notebooks in JupyterLab.\n",
    "* Describe how to work in a notebook session.\n",
    "* Describe the basic Jupyter architecture.\n",
    "* Describe how to work with kernels.\n",
    "* Identify tools in Anaconda Jupyter environments.\n",
    "* Describe cloud based Jupyter environments and their data science features.\n",
    "* Describe R capabilities and RStudio environment.\n",
    "* Use the inbuilt R plot function.\n",
    "* Explain version control and describe the Git and GitHub environment.\n",
    "* Describe the purpose of source repositories and explain how GitHub satisfies the needs of a source repository.\n",
    "* Explain how to sign up for a GitHub account and describe how to create a repository.\n",
    "* Demonstrate how to edit and upload files in GitHub.\n",
    "* Explain the purpose of branches and describe how to merge changes into branches.\n"
   ]
  },
  {
   "cell_type": "markdown",
   "id": "de1feab8",
   "metadata": {},
   "source": [
    "## AUTHOR ##\n",
    "\n",
    " Arishkumar Natarajan\n",
    "  "
   ]
  }
 ],
 "metadata": {
  "kernelspec": {
   "display_name": "Python 3 (ipykernel)",
   "language": "python",
   "name": "python3"
  },
  "language_info": {
   "codemirror_mode": {
    "name": "ipython",
    "version": 3
   },
   "file_extension": ".py",
   "mimetype": "text/x-python",
   "name": "python",
   "nbconvert_exporter": "python",
   "pygments_lexer": "ipython3",
   "version": "3.9.12"
  }
 },
 "nbformat": 4,
 "nbformat_minor": 5
}
